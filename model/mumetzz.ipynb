{
  "nbformat": 4,
  "nbformat_minor": 0,
  "metadata": {
    "colab": {
      "name": "mumetzz.ipynb",
      "provenance": []
    },
    "kernelspec": {
      "name": "python3",
      "display_name": "Python 3"
    },
    "language_info": {
      "name": "python"
    },
    "accelerator": "GPU"
  },
  "cells": [
    {
      "cell_type": "code",
      "metadata": {
        "id": "Rvviz1urEoOM"
      },
      "source": [
        "import tensorflow as tf\n",
        "import numpy as np\n",
        "import pandas as pd\n",
        "import seaborn as sns #masuk golongan matplotlib\n",
        "import matplotlib.pyplot as plt\n",
        "\n",
        "from sklearn.metrics import classification_report\n",
        "\n",
        "# training properties\n",
        "DEBUG = True\n",
        "SEED = 42 #ngambil bibit? yang ke 42\n",
        "BATCH_SIZE = 64 #ngambil banyaknya data sekali kirim\n",
        "EPOCHS = 4 if DEBUG else 100000\n",
        "DATA_DIR = '/content/drive/MyDrive/JanganTidakTahu/HACKATHON/data_telur/dataset'\n",
        "INPUT_SHAPE = (224, 224, 3)"
      ],
      "execution_count": 13,
      "outputs": []
    },
    {
      "cell_type": "code",
      "metadata": {
        "colab": {
          "base_uri": "https://localhost:8080/"
        },
        "id": "ab2TydkdFIJt",
        "outputId": "f9fcacad-ddf0-4bb6-e5f8-824e3fe3f4ac"
      },
      "source": [
        "import tensorflow as tf\n",
        "\n",
        "datagen = tf.keras.preprocessing.image.ImageDataGenerator(\n",
        "    rescale = 1.0/255.0,\n",
        "    validation_split = 0.2\n",
        ")\n",
        "\n",
        "train_generator = datagen.flow_from_directory(\n",
        "    DATA_DIR,\n",
        "    batch_size = BATCH_SIZE,\n",
        "    seed = SEED,\n",
        "    target_size=(224, 224),\n",
        "    class_mode = 'binary',\n",
        "    subset = 'training'\n",
        ")\n",
        "\n",
        "validation_generator = datagen.flow_from_directory(\n",
        "    DATA_DIR,\n",
        "    shuffle=False, #\n",
        "    batch_size = BATCH_SIZE,\n",
        "    seed = SEED,\n",
        "    target_size=(224, 224),\n",
        "    class_mode = 'binary',\n",
        "    subset = 'validation'\n",
        ")"
      ],
      "execution_count": 2,
      "outputs": [
        {
          "output_type": "stream",
          "name": "stdout",
          "text": [
            "Found 8112 images belonging to 2 classes.\n",
            "Found 2026 images belonging to 2 classes.\n"
          ]
        }
      ]
    },
    {
      "cell_type": "code",
      "metadata": {
        "colab": {
          "base_uri": "https://localhost:8080/",
          "height": 111
        },
        "id": "y8R_utRdFLJ3",
        "outputId": "61d7c4d3-a7a1-4afd-f3db-89e871fc8810"
      },
      "source": [
        "class_names = train_generator.class_indices #indices = banyak indexxx\n",
        "class_df = pd.DataFrame.from_dict(class_names, orient='index', columns=['id'])\n",
        "\n",
        "class_df.to_csv('/content/drive/MyDrive/JanganTidakTahu/HACKATHON/data_telur/classes.csv')\n",
        "class_df.head()"
      ],
      "execution_count": 5,
      "outputs": [
        {
          "output_type": "execute_result",
          "data": {
            "text/html": [
              "<div>\n",
              "<style scoped>\n",
              "    .dataframe tbody tr th:only-of-type {\n",
              "        vertical-align: middle;\n",
              "    }\n",
              "\n",
              "    .dataframe tbody tr th {\n",
              "        vertical-align: top;\n",
              "    }\n",
              "\n",
              "    .dataframe thead th {\n",
              "        text-align: right;\n",
              "    }\n",
              "</style>\n",
              "<table border=\"1\" class=\"dataframe\">\n",
              "  <thead>\n",
              "    <tr style=\"text-align: right;\">\n",
              "      <th></th>\n",
              "      <th>id</th>\n",
              "    </tr>\n",
              "  </thead>\n",
              "  <tbody>\n",
              "    <tr>\n",
              "      <th>fertil</th>\n",
              "      <td>0</td>\n",
              "    </tr>\n",
              "    <tr>\n",
              "      <th>infertil</th>\n",
              "      <td>1</td>\n",
              "    </tr>\n",
              "  </tbody>\n",
              "</table>\n",
              "</div>"
            ],
            "text/plain": [
              "          id\n",
              "fertil     0\n",
              "infertil   1"
            ]
          },
          "metadata": {},
          "execution_count": 5
        }
      ]
    },
    {
      "cell_type": "code",
      "metadata": {
        "colab": {
          "base_uri": "https://localhost:8080/",
          "height": 320
        },
        "id": "OYwsdhNkFMHT",
        "outputId": "d7f9ae7f-c3b2-4ba0-ea79-95afb72fec72"
      },
      "source": [
        "sns.countplot(train_generator.classes)\n",
        "sns.set_context('paper')\n",
        "sns.despine()"
      ],
      "execution_count": 8,
      "outputs": [
        {
          "output_type": "stream",
          "name": "stderr",
          "text": [
            "/usr/local/lib/python3.7/dist-packages/seaborn/_decorators.py:43: FutureWarning: Pass the following variable as a keyword arg: x. From version 0.12, the only valid positional argument will be `data`, and passing other arguments without an explicit keyword will result in an error or misinterpretation.\n",
            "  FutureWarning\n"
          ]
        },
        {
          "output_type": "display_data",
          "data": {
            "image/png": "[encoded data removed]",
            "text/plain": [
              "<Figure size 432x288 with 1 Axes>"
            ]
          },
          "metadata": {
            "needs_background": "light"
          }
        }
      ]
    },
    {
      "cell_type": "code",
      "metadata": {
        "colab": {
          "base_uri": "https://localhost:8080/",
          "height": 320
        },
        "id": "J5hvUVBvFQPe",
        "outputId": "eb12fc0a-9b11-4346-f062-a501f1818ca3"
      },
      "source": [
        "sns.countplot(validation_generator.classes)\n",
        "sns.set_context('paper')\n",
        "sns.despine()"
      ],
      "execution_count": 9,
      "outputs": [
        {
          "output_type": "stream",
          "name": "stderr",
          "text": [
            "/usr/local/lib/python3.7/dist-packages/seaborn/_decorators.py:43: FutureWarning: Pass the following variable as a keyword arg: x. From version 0.12, the only valid positional argument will be `data`, and passing other arguments without an explicit keyword will result in an error or misinterpretation.\n",
            "  FutureWarning\n"
          ]
        },
        {
          "output_type": "display_data",
          "data": {
            "image/png": "[encoded data removed]",
            "text/plain": [
              "<Figure size 432x288 with 1 Axes>"
            ]
          },
          "metadata": {
            "needs_background": "light"
          }
        }
      ]
    },
    {
      "cell_type": "code",
      "metadata": {
        "colab": {
          "base_uri": "https://localhost:8080/"
        },
        "id": "JFT8d9oPFTUX",
        "outputId": "4d6c112c-9ce5-4192-db5a-78ebf4b330da"
      },
      "source": [
        "model1 = tf.keras.applications.MobileNetV2(include_top=False, input_shape=INPUT_SHAPE) #menghemat waktu running time\n",
        "model1.trainable = False\n",
        "\n",
        "\n",
        "input_layer1 = tf.keras.Input(shape=INPUT_SHAPE)\n",
        "\n",
        "model_layers1 = model1(input_layer1)\n",
        "model_layers1 = tf.keras.layers.Flatten()(model_layers1)\n",
        "#output_layer1 = tf.keras.layers.Dense(len(class_df), activation='softmax')(model_layers1)\n",
        "output_layer1 = tf.keras.layers.Dense(1, activation='sigmoid')(model_layers1)\n",
        "\n",
        "model1 = tf.keras.Model(input_layer1, output_layer1)\n",
        "\n",
        "model1.summary()"
      ],
      "execution_count": 10,
      "outputs": [
        {
          "output_type": "stream",
          "name": "stdout",
          "text": [
            "Downloading data from https://storage.googleapis.com/tensorflow/keras-applications/mobilenet_v2/mobilenet_v2_weights_tf_dim_ordering_tf_kernels_1.0_224_no_top.h5\n",
            "9412608/9406464 [==============================] - 0s 0us/step\n",
            "9420800/9406464 [==============================] - 0s 0us/step\n",
            "Model: \"model\"\n",
            "_________________________________________________________________\n",
            "Layer (type)                 Output Shape              Param #   \n",
            "=================================================================\n",
            "input_2 (InputLayer)         [(None, 224, 224, 3)]     0         \n",
            "_________________________________________________________________\n",
            "mobilenetv2_1.00_224 (Functi (None, 7, 7, 1280)        2257984   \n",
            "_________________________________________________________________\n",
            "flatten (Flatten)            (None, 62720)             0         \n",
            "_________________________________________________________________\n",
            "dense (Dense)                (None, 1)                 62721     \n",
            "=================================================================\n",
            "Total params: 2,320,705\n",
            "Trainable params: 62,721\n",
            "Non-trainable params: 2,257,984\n",
            "_________________________________________________________________\n"
          ]
        }
      ]
    },
    {
      "cell_type": "code",
      "metadata": {
        "colab": {
          "base_uri": "https://localhost:8080/"
        },
        "id": "KrmnydHrFVJh",
        "outputId": "fd03d3f7-a208-459c-ebaf-9f8b3db191cf"
      },
      "source": [
        "callbacks = [\n",
        "    tf.keras.callbacks.EarlyStopping(\n",
        "      monitor='val_loss', min_delta=0, patience=10, verbose=0,\n",
        "      mode='auto', restore_best_weights=True\n",
        "    ),\n",
        "    tf.keras.callbacks.ReduceLROnPlateau(\n",
        "      monitor='val_loss', factor=0.1, patience=3, verbose=0,\n",
        "      mode='auto', min_delta=0.0001, cooldown=0, min_lr=0.0001\n",
        "    )\n",
        "]\n",
        "model1.compile(optimizer='Adam',\n",
        "             loss='binary_crossentropy', #ngitung error\n",
        "             metrics=['accuracy',tf.keras.metrics.Precision(), tf.keras.metrics.Recall()])\n",
        "\n",
        "hist1 = model1.fit(\n",
        "    train_generator, \n",
        "    workers=8, \n",
        "    steps_per_epoch=train_generator.samples // BATCH_SIZE, \n",
        "    epochs=EPOCHS,\n",
        "    callbacks=callbacks,\n",
        "    validation_data=validation_generator, \n",
        "    validation_steps=validation_generator.samples // BATCH_SIZE)"
      ],
      "execution_count": 14,
      "outputs": [
        {
          "output_type": "stream",
          "name": "stdout",
          "text": [
            "Epoch 1/4\n",
            "126/126 [==============================] - 36s 250ms/step - loss: 0.0210 - accuracy: 0.9940 - precision_2: 0.9945 - recall_2: 0.9935 - val_loss: 0.3105 - val_accuracy: 0.9526 - val_precision_2: 0.9346 - val_recall_2: 0.9712\n",
            "Epoch 2/4\n",
            "126/126 [==============================] - 32s 243ms/step - loss: 0.0057 - accuracy: 0.9981 - precision_2: 0.9978 - recall_2: 0.9985 - val_loss: 0.3000 - val_accuracy: 0.9602 - val_precision_2: 0.9505 - val_recall_2: 0.9691\n",
            "Epoch 3/4\n",
            "126/126 [==============================] - 31s 239ms/step - loss: 0.0058 - accuracy: 0.9985 - precision_2: 0.9985 - recall_2: 0.9985 - val_loss: 0.4018 - val_accuracy: 0.9556 - val_precision_2: 0.9501 - val_recall_2: 0.9598\n",
            "Epoch 4/4\n",
            "126/126 [==============================] - 31s 242ms/step - loss: 0.0163 - accuracy: 0.9969 - precision_2: 0.9968 - recall_2: 0.9970 - val_loss: 0.4895 - val_accuracy: 0.9511 - val_precision_2: 0.9856 - val_recall_2: 0.9135\n"
          ]
        }
      ]
    },
    {
      "cell_type": "code",
      "metadata": {
        "colab": {
          "base_uri": "https://localhost:8080/",
          "height": 331
        },
        "id": "k5TMEu5AFWx2",
        "outputId": "5559a871-81cf-4687-a4c2-50d9fa99b9af"
      },
      "source": [
        "import matplotlib.pyplot as plt\n",
        "\n",
        "print(hist1.history.keys())\n",
        "# summarize history for accuracy\n",
        "plt.plot(hist1.history['accuracy'])\n",
        "plt.plot(hist1.history['val_accuracy'])\n",
        "plt.title('model1 accuracy')\n",
        "plt.ylabel('accuracy')\n",
        "plt.xlabel('epoch')\n",
        "plt.legend(['train', 'test'], loc='upper left')\n",
        "plt.show()"
      ],
      "execution_count": 15,
      "outputs": [
        {
          "output_type": "stream",
          "name": "stdout",
          "text": [
            "dict_keys(['loss', 'accuracy', 'precision_2', 'recall_2', 'val_loss', 'val_accuracy', 'val_precision_2', 'val_recall_2', 'lr'])\n"
          ]
        },
        {
          "output_type": "display_data",
          "data": {
            "image/png": "[encoded data removed]",
            "text/plain": [
              "<Figure size 432x288 with 1 Axes>"
            ]
          },
          "metadata": {
            "needs_background": "light"
          }
        }
      ]
    },
    {
      "cell_type": "code",
      "metadata": {
        "colab": {
          "base_uri": "https://localhost:8080/",
          "height": 294
        },
        "id": "bUardxzMFYKz",
        "outputId": "23d1ae77-416b-4b63-d3a7-42acb7031eb5"
      },
      "source": [
        "plt.plot(hist1.history['precision_2'])\n",
        "plt.plot(hist1.history['val_precision_2'])\n",
        "plt.title('model1 precision')\n",
        "plt.ylabel('precision')\n",
        "plt.xlabel('epoch')\n",
        "plt.legend(['train', 'test'], loc='upper left')\n",
        "plt.show()"
      ],
      "execution_count": 18,
      "outputs": [
        {
          "output_type": "display_data",
          "data": {
            "image/png": "[encoded data removed]",
            "text/plain": [
              "<Figure size 432x288 with 1 Axes>"
            ]
          },
          "metadata": {
            "needs_background": "light"
          }
        }
      ]
    },
    {
      "cell_type": "code",
      "metadata": {
        "id": "nuWkybxyFZe2"
      },
      "source": [
        "plt.plot(hist1.history['recall'])\n",
        "plt.plot(hist1.history['val_recall'])\n",
        "plt.title('model1 recall')\n",
        "plt.ylabel('recall')\n",
        "plt.xlabel('epoch')\n",
        "plt.legend(['train', 'test'], loc='upper left')\n",
        "plt.show()"
      ],
      "execution_count": null,
      "outputs": []
    },
    {
      "cell_type": "code",
      "metadata": {
        "id": "XjjpjQQKFa1N"
      },
      "source": [
        "probas = model1.predict(validation_generator)\n",
        "y_pred = np.argmax(probas, axis=1)\n",
        "y_true = validation_generator.classes\n",
        "print(classification_report(y_true,y_pred))"
      ],
      "execution_count": null,
      "outputs": []
    },
    {
      "cell_type": "code",
      "metadata": {
        "colab": {
          "base_uri": "https://localhost:8080/"
        },
        "id": "oaAwXXh4ZGC_",
        "outputId": "f5b9d2bb-7090-4eb9-d4a5-90e5543998b9"
      },
      "source": [
        "model1.save(\"/content/drive/MyDrive/JanganTidakTahu/HACKATHON/data_telur/dataset/model.h5\")"
      ],
      "execution_count": 19,
      "outputs": [
        {
          "output_type": "stream",
          "name": "stderr",
          "text": [
            "/usr/local/lib/python3.7/dist-packages/keras/utils/generic_utils.py:497: CustomMaskWarning: Custom mask layers require a config and must override get_config. When loading, the custom mask layer must be passed to the custom_objects argument.\n",
            "  category=CustomMaskWarning)\n"
          ]
        }
      ]
    },
    {
      "cell_type": "code",
      "metadata": {
        "colab": {
          "base_uri": "https://localhost:8080/",
          "height": 200
        },
        "id": "ODGkkFZjZTnP",
        "outputId": "97b8a35c-c8ca-463e-ce78-1b49d9793a59"
      },
      "source": [
        "model = model1.load(\"/content/drive/MyDrive/JanganTidakTahu/HACKATHON/data_telur/dataset/model.h5\")"
      ],
      "execution_count": 20,
      "outputs": [
        {
          "output_type": "error",
          "ename": "AttributeError",
          "evalue": "ignored",
          "traceback": [
            "\u001b[0;31m---------------------------------------------------------------------------\u001b[0m",
            "\u001b[0;31mAttributeError\u001b[0m                            Traceback (most recent call last)",
            "\u001b[0;32m<ipython-input-20-c380a1782e0f>\u001b[0m in \u001b[0;36m<module>\u001b[0;34m()\u001b[0m\n\u001b[0;32m----> 1\u001b[0;31m \u001b[0mmodel\u001b[0m \u001b[0;34m=\u001b[0m \u001b[0mmodel1\u001b[0m\u001b[0;34m.\u001b[0m\u001b[0mload\u001b[0m\u001b[0;34m(\u001b[0m\u001b[0;34m\"/content/drive/MyDrive/JanganTidakTahu/HACKATHON/data_telur/dataset/model.h5\"\u001b[0m\u001b[0;34m)\u001b[0m\u001b[0;34m\u001b[0m\u001b[0;34m\u001b[0m\u001b[0m\n\u001b[0m",
            "\u001b[0;31mAttributeError\u001b[0m: 'Functional' object has no attribute 'load'"
          ]
        }
      ]
    },
    {
      "cell_type": "code",
      "metadata": {
        "id": "xJtD3y56ZpDv"
      },
      "source": [
        ""
      ],
      "execution_count": null,
      "outputs": []
    }
  ]
}