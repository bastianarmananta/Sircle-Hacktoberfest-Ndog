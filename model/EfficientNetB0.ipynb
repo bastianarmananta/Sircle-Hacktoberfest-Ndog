{
  "nbformat": 4,
  "nbformat_minor": 0,
  "metadata": {
    "colab": {
      "name": "EfficientNetB0.ipynb",
      "provenance": [],
      "collapsed_sections": []
    },
    "kernelspec": {
      "name": "python3",
      "display_name": "Python 3"
    },
    "language_info": {
      "name": "python"
    },
    "accelerator": "GPU"
  },
  "cells": [
    {
      "cell_type": "code",
      "metadata": {
        "colab": {
          "base_uri": "https://localhost:8080/"
        },
        "id": "Te5vjqh5kOR8",
        "outputId": "e10e623f-0255-45c8-82bd-18d7b6223799"
      },
      "source": [
        "from google.colab import drive\n",
        "drive.mount('/content/drive')"
      ],
      "execution_count": null,
      "outputs": [
        {
          "output_type": "stream",
          "text": [
            "Mounted at /content/drive\n"
          ],
          "name": "stdout"
        }
      ]
    },
    {
      "cell_type": "code",
      "metadata": {
        "id": "uuSziYLATV8C"
      },
      "source": [
        "import tensorflow as tf\n",
        "import numpy as np\n",
        "import pandas as pd\n",
        "import seaborn as sns\n",
        "import matplotlib.pyplot as plt\n",
        "\n",
        "from sklearn.metrics import classification_report\n",
        "\n",
        "# training properties\n",
        "DEBUG = False\n",
        "SEED = 42\n",
        "BATCH_SIZE = 64\n",
        "EPOCHS = 3 if DEBUG else 100000\n",
        "DATA_DIR = 'drive/MyDrive/data_telur/dataset/'\n",
        "INPUT_SHAPE = (224, 224, 3)"
      ],
      "execution_count": null,
      "outputs": []
    },
    {
      "cell_type": "code",
      "metadata": {
        "colab": {
          "base_uri": "https://localhost:8080/"
        },
        "id": "yKX-MdgVVvpJ",
        "outputId": "2ceebe01-bb9f-4176-93a3-1c4a0e2fff94"
      },
      "source": [
        "import tensorflow as tf\n",
        "\n",
        "datagen = tf.keras.preprocessing.image.ImageDataGenerator(\n",
        "    rescale = 1./255.0,\n",
        "    validation_split = 0.2\n",
        ")\n",
        "\n",
        "train_generator = datagen.flow_from_directory(\n",
        "    DATA_DIR,\n",
        "    batch_size = BATCH_SIZE,\n",
        "    seed = SEED,\n",
        "    target_size=(224, 224),\n",
        "    class_mode = 'binary',\n",
        "    subset = 'training'\n",
        ")\n",
        "\n",
        "validation_generator = datagen.flow_from_directory(\n",
        "    DATA_DIR,\n",
        "    shuffle=False,\n",
        "    batch_size = BATCH_SIZE,\n",
        "    seed = SEED,\n",
        "    target_size=(224, 224),\n",
        "    class_mode = 'binary',\n",
        "    subset = 'validation'\n",
        ")"
      ],
      "execution_count": null,
      "outputs": [
        {
          "output_type": "stream",
          "text": [
            "Found 8112 images belonging to 2 classes.\n",
            "Found 2026 images belonging to 2 classes.\n"
          ],
          "name": "stdout"
        }
      ]
    },
    {
      "cell_type": "code",
      "metadata": {
        "id": "5MHAao37Vx01",
        "colab": {
          "base_uri": "https://localhost:8080/",
          "height": 111
        },
        "outputId": "43e0a569-81da-4b68-f649-02e58c96ddb4"
      },
      "source": [
        "class_names = train_generator.class_indices\n",
        "\n",
        "class_df = pd.DataFrame.from_dict(class_names, orient='index', columns=['id'])\n",
        "\n",
        "class_df.to_csv('classes.csv')\n",
        "class_df.head()"
      ],
      "execution_count": null,
      "outputs": [
        {
          "output_type": "execute_result",
          "data": {
            "text/html": [
              "<div>\n",
              "<style scoped>\n",
              "    .dataframe tbody tr th:only-of-type {\n",
              "        vertical-align: middle;\n",
              "    }\n",
              "\n",
              "    .dataframe tbody tr th {\n",
              "        vertical-align: top;\n",
              "    }\n",
              "\n",
              "    .dataframe thead th {\n",
              "        text-align: right;\n",
              "    }\n",
              "</style>\n",
              "<table border=\"1\" class=\"dataframe\">\n",
              "  <thead>\n",
              "    <tr style=\"text-align: right;\">\n",
              "      <th></th>\n",
              "      <th>id</th>\n",
              "    </tr>\n",
              "  </thead>\n",
              "  <tbody>\n",
              "    <tr>\n",
              "      <th>fertil</th>\n",
              "      <td>0</td>\n",
              "    </tr>\n",
              "    <tr>\n",
              "      <th>infertil</th>\n",
              "      <td>1</td>\n",
              "    </tr>\n",
              "  </tbody>\n",
              "</table>\n",
              "</div>"
            ],
            "text/plain": [
              "          id\n",
              "fertil     0\n",
              "infertil   1"
            ]
          },
          "metadata": {},
          "execution_count": 16
        }
      ]
    },
    {
      "cell_type": "code",
      "metadata": {
        "colab": {
          "base_uri": "https://localhost:8080/",
          "height": 320
        },
        "id": "IvrzrO5Oa7Ua",
        "outputId": "67f35aba-41fd-4d91-f16a-de2ed54892ca"
      },
      "source": [
        "sns.countplot(train_generator.classes)\n",
        "sns.set_context('paper')\n",
        "sns.despine()"
      ],
      "execution_count": null,
      "outputs": [
        {
          "output_type": "stream",
          "text": [
            "/usr/local/lib/python3.7/dist-packages/seaborn/_decorators.py:43: FutureWarning: Pass the following variable as a keyword arg: x. From version 0.12, the only valid positional argument will be `data`, and passing other arguments without an explicit keyword will result in an error or misinterpretation.\n",
            "  FutureWarning\n"
          ],
          "name": "stderr"
        },
        {
          "output_type": "display_data",
          "data": {
            "image/png": "[encoded data removed]",
            "text/plain": [
              "<Figure size 432x288 with 1 Axes>"
            ]
          },
          "metadata": {
            "needs_background": "light"
          }
        }
      ]
    },
    {
      "cell_type": "code",
      "metadata": {
        "colab": {
          "base_uri": "https://localhost:8080/",
          "height": 320
        },
        "id": "P98BP8L3amFH",
        "outputId": "6091a385-0ae9-4deb-a24f-9510a0e8fa14"
      },
      "source": [
        "sns.countplot(validation_generator.classes)\n",
        "sns.set_context('paper')\n",
        "sns.despine()"
      ],
      "execution_count": null,
      "outputs": [
        {
          "output_type": "stream",
          "text": [
            "/usr/local/lib/python3.7/dist-packages/seaborn/_decorators.py:43: FutureWarning: Pass the following variable as a keyword arg: x. From version 0.12, the only valid positional argument will be `data`, and passing other arguments without an explicit keyword will result in an error or misinterpretation.\n",
            "  FutureWarning\n"
          ],
          "name": "stderr"
        },
        {
          "output_type": "display_data",
          "data": {
            "image/png": "[encoded data removed]",
            "text/plain": [
              "<Figure size 432x288 with 1 Axes>"
            ]
          },
          "metadata": {
            "needs_background": "light"
          }
        }
      ]
    },
    {
      "cell_type": "markdown",
      "metadata": {
        "id": "DaEc0Lu6cjjc"
      },
      "source": [
        "Terlihat jelas bahwa distribusi class dalam dataset sudah seimbang sehingga tidak dibutuhkannya preprocessing maupun regularisasi terlebih lanjut"
      ]
    },
    {
      "cell_type": "code",
      "metadata": {
        "colab": {
          "base_uri": "https://localhost:8080/"
        },
        "id": "gXKJlLtLV2IC",
        "outputId": "9e7294dc-2f9b-4a78-9509-62aba7491767"
      },
      "source": [
        "model1 = tf.keras.applications.MobileNetV2(include_top=False, input_shape=INPUT_SHAPE)\n",
        "model1.trainable = False\n",
        "\n",
        "\n",
        "input_layer1 = tf.keras.Input(shape=INPUT_SHAPE)\n",
        "\n",
        "model_layers1 = model1(input_layer1)\n",
        "model_layers1 = tf.keras.layers.Flatten()(model_layers1)\n",
        "#output_layer1 = tf.keras.layers.Dense(len(class_df), activation='softmax')(model_layers1)\n",
        "output_layer1 = tf.keras.layers.Dense(1, activation='sigmoid')(model_layers1)\n",
        "\n",
        "model1 = tf.keras.Model(input_layer1, output_layer1)\n",
        "\n",
        "model1.summary()"
      ],
      "execution_count": null,
      "outputs": [
        {
          "output_type": "stream",
          "text": [
            "Downloading data from https://storage.googleapis.com/tensorflow/keras-applications/mobilenet_v2/mobilenet_v2_weights_tf_dim_ordering_tf_kernels_1.0_224_no_top.h5\n",
            "9412608/9406464 [==============================] - 0s 0us/step\n",
            "9420800/9406464 [==============================] - 0s 0us/step\n",
            "Model: \"model_2\"\n",
            "_________________________________________________________________\n",
            "Layer (type)                 Output Shape              Param #   \n",
            "=================================================================\n",
            "input_6 (InputLayer)         [(None, 224, 224, 3)]     0         \n",
            "_________________________________________________________________\n",
            "mobilenetv2_1.00_224 (Functi (None, 7, 7, 1280)        2257984   \n",
            "_________________________________________________________________\n",
            "flatten_2 (Flatten)          (None, 62720)             0         \n",
            "_________________________________________________________________\n",
            "dense_2 (Dense)              (None, 1)                 62721     \n",
            "=================================================================\n",
            "Total params: 2,320,705\n",
            "Trainable params: 62,721\n",
            "Non-trainable params: 2,257,984\n",
            "_________________________________________________________________\n"
          ],
          "name": "stdout"
        }
      ]
    },
    {
      "cell_type": "markdown",
      "metadata": {
        "id": "ysbHeDPU-I6f"
      },
      "source": [
        "# Optimizer Adam"
      ]
    },
    {
      "cell_type": "code",
      "metadata": {
        "colab": {
          "base_uri": "https://localhost:8080/"
        },
        "id": "1V_gq1YeV_5J",
        "outputId": "26b1d767-1a70-459c-f53b-fb5a433e4e8d"
      },
      "source": [
        "callbacks = [\n",
        "    tf.keras.callbacks.EarlyStopping(\n",
        "      monitor='val_loss', min_delta=0, patience=10, verbose=0,\n",
        "      mode='auto', restore_best_weights=True\n",
        "    ),\n",
        "    tf.keras.callbacks.ReduceLROnPlateau(\n",
        "      monitor='val_loss', factor=0.1, patience=3, verbose=0,\n",
        "      mode='auto', min_delta=0.0001, cooldown=0, min_lr=0.0001\n",
        "    )\n",
        "]\n",
        "model1.compile(optimizer='Adam',\n",
        "             loss='binary_crossentropy',\n",
        "             metrics=['accuracy',tf.keras.metrics.Precision(), tf.keras.metrics.Recall()])\n",
        "\n",
        "hist1 = model1.fit(\n",
        "    train_generator, \n",
        "    workers=8, \n",
        "    steps_per_epoch=train_generator.samples // BATCH_SIZE, \n",
        "    epochs=EPOCHS,\n",
        "    callbacks=callbacks,\n",
        "    validation_data=validation_generator, \n",
        "    validation_steps=validation_generator.samples // BATCH_SIZE)"
      ],
      "execution_count": null,
      "outputs": [
        {
          "output_type": "stream",
          "text": [
            "Epoch 1/100000\n",
            "126/126 [==============================] - 38s 255ms/step - loss: 0.2746 - accuracy: 0.9559 - precision_4: 0.9560 - recall_4: 0.9557 - val_loss: 0.2010 - val_accuracy: 0.9491 - val_precision_4: 0.9791 - val_recall_4: 0.9156\n",
            "Epoch 2/100000\n",
            "126/126 [==============================] - 31s 241ms/step - loss: 0.0046 - accuracy: 0.9983 - precision_4: 0.9980 - recall_4: 0.9985 - val_loss: 0.1627 - val_accuracy: 0.9602 - val_precision_4: 0.9551 - val_recall_4: 0.9640\n",
            "Epoch 3/100000\n",
            "126/126 [==============================] - 31s 238ms/step - loss: 4.7799e-04 - accuracy: 0.9999 - precision_4: 0.9998 - recall_4: 1.0000 - val_loss: 0.1605 - val_accuracy: 0.9592 - val_precision_4: 0.9578 - val_recall_4: 0.9588\n",
            "Epoch 4/100000\n",
            "126/126 [==============================] - 31s 237ms/step - loss: 1.1860e-04 - accuracy: 1.0000 - precision_4: 1.0000 - recall_4: 1.0000 - val_loss: 0.1614 - val_accuracy: 0.9587 - val_precision_4: 0.9587 - val_recall_4: 0.9567\n",
            "Epoch 5/100000\n",
            "126/126 [==============================] - 31s 237ms/step - loss: 8.6233e-05 - accuracy: 1.0000 - precision_4: 1.0000 - recall_4: 1.0000 - val_loss: 0.1620 - val_accuracy: 0.9582 - val_precision_4: 0.9577 - val_recall_4: 0.9567\n",
            "Epoch 6/100000\n",
            "126/126 [==============================] - 31s 236ms/step - loss: 7.0454e-05 - accuracy: 1.0000 - precision_4: 1.0000 - recall_4: 1.0000 - val_loss: 0.1620 - val_accuracy: 0.9587 - val_precision_4: 0.9587 - val_recall_4: 0.9567\n",
            "Epoch 7/100000\n",
            "126/126 [==============================] - 31s 236ms/step - loss: 6.0143e-05 - accuracy: 1.0000 - precision_4: 1.0000 - recall_4: 1.0000 - val_loss: 0.1620 - val_accuracy: 0.9582 - val_precision_4: 0.9577 - val_recall_4: 0.9567\n",
            "Epoch 8/100000\n",
            "126/126 [==============================] - 31s 236ms/step - loss: 5.9575e-05 - accuracy: 1.0000 - precision_4: 1.0000 - recall_4: 1.0000 - val_loss: 0.1621 - val_accuracy: 0.9587 - val_precision_4: 0.9587 - val_recall_4: 0.9567\n",
            "Epoch 9/100000\n",
            "126/126 [==============================] - 31s 236ms/step - loss: 5.8661e-05 - accuracy: 1.0000 - precision_4: 1.0000 - recall_4: 1.0000 - val_loss: 0.1621 - val_accuracy: 0.9587 - val_precision_4: 0.9587 - val_recall_4: 0.9567\n",
            "Epoch 10/100000\n",
            "126/126 [==============================] - 31s 237ms/step - loss: 5.6484e-05 - accuracy: 1.0000 - precision_4: 1.0000 - recall_4: 1.0000 - val_loss: 0.1621 - val_accuracy: 0.9587 - val_precision_4: 0.9587 - val_recall_4: 0.9567\n",
            "Epoch 11/100000\n",
            "126/126 [==============================] - 31s 236ms/step - loss: 5.6284e-05 - accuracy: 1.0000 - precision_4: 1.0000 - recall_4: 1.0000 - val_loss: 0.1622 - val_accuracy: 0.9587 - val_precision_4: 0.9587 - val_recall_4: 0.9567\n",
            "Epoch 12/100000\n",
            "126/126 [==============================] - 31s 240ms/step - loss: 5.4562e-05 - accuracy: 1.0000 - precision_4: 1.0000 - recall_4: 1.0000 - val_loss: 0.1622 - val_accuracy: 0.9587 - val_precision_4: 0.9587 - val_recall_4: 0.9567\n",
            "Epoch 13/100000\n",
            "126/126 [==============================] - 31s 241ms/step - loss: 5.4459e-05 - accuracy: 1.0000 - precision_4: 1.0000 - recall_4: 1.0000 - val_loss: 0.1622 - val_accuracy: 0.9587 - val_precision_4: 0.9587 - val_recall_4: 0.9567\n"
          ],
          "name": "stdout"
        }
      ]
    },
    {
      "cell_type": "code",
      "metadata": {
        "colab": {
          "base_uri": "https://localhost:8080/",
          "height": 311
        },
        "id": "u8KpqHHKWHwR",
        "outputId": "25f10b2c-20b1-422d-cdb4-ae834e3e484e"
      },
      "source": [
        "import matplotlib.pyplot as plt\n",
        "\n",
        "print(hist1.history.keys())\n",
        "# summarize history for accuracy\n",
        "plt.plot(hist1.history['accuracy'])\n",
        "plt.plot(hist1.history['val_accuracy'])\n",
        "plt.title('model1 accuracy')\n",
        "plt.ylabel('accuracy')\n",
        "plt.xlabel('epoch')\n",
        "plt.legend(['train', 'test'], loc='upper left')\n",
        "plt.show()"
      ],
      "execution_count": null,
      "outputs": [
        {
          "output_type": "stream",
          "text": [
            "dict_keys(['loss', 'accuracy', 'precision_4', 'recall_4', 'val_loss', 'val_accuracy', 'val_precision_4', 'val_recall_4', 'lr'])\n"
          ],
          "name": "stdout"
        },
        {
          "output_type": "display_data",
          "data": {
            "image/png": "[encoded data removed]",
            "text/plain": [
              "<Figure size 432x288 with 1 Axes>"
            ]
          },
          "metadata": {
            "needs_background": "light"
          }
        }
      ]
    },
    {
      "cell_type": "code",
      "metadata": {
        "colab": {
          "base_uri": "https://localhost:8080/",
          "height": 231
        },
        "id": "mDd2Dot9WQD8",
        "outputId": "3c6bde38-006d-4a15-c71a-ac44f37c2b7b"
      },
      "source": [
        "plt.plot(hist1.history['precision'])\n",
        "plt.plot(hist1.history['val_precision'])\n",
        "plt.title('model1 precision')\n",
        "plt.ylabel('precision')\n",
        "plt.xlabel('epoch')\n",
        "plt.legend(['train', 'test'], loc='upper left')\n",
        "plt.show()"
      ],
      "execution_count": null,
      "outputs": [
        {
          "output_type": "error",
          "ename": "KeyError",
          "evalue": "ignored",
          "traceback": [
            "\u001b[0;31m---------------------------------------------------------------------------\u001b[0m",
            "\u001b[0;31mKeyError\u001b[0m                                  Traceback (most recent call last)",
            "\u001b[0;32m<ipython-input-34-5b5a14e5cbd2>\u001b[0m in \u001b[0;36m<module>\u001b[0;34m()\u001b[0m\n\u001b[0;32m----> 1\u001b[0;31m \u001b[0mplt\u001b[0m\u001b[0;34m.\u001b[0m\u001b[0mplot\u001b[0m\u001b[0;34m(\u001b[0m\u001b[0mhist1\u001b[0m\u001b[0;34m.\u001b[0m\u001b[0mhistory\u001b[0m\u001b[0;34m[\u001b[0m\u001b[0;34m'precision'\u001b[0m\u001b[0;34m]\u001b[0m\u001b[0;34m)\u001b[0m\u001b[0;34m\u001b[0m\u001b[0;34m\u001b[0m\u001b[0m\n\u001b[0m\u001b[1;32m      2\u001b[0m \u001b[0mplt\u001b[0m\u001b[0;34m.\u001b[0m\u001b[0mplot\u001b[0m\u001b[0;34m(\u001b[0m\u001b[0mhist1\u001b[0m\u001b[0;34m.\u001b[0m\u001b[0mhistory\u001b[0m\u001b[0;34m[\u001b[0m\u001b[0;34m'val_precision'\u001b[0m\u001b[0;34m]\u001b[0m\u001b[0;34m)\u001b[0m\u001b[0;34m\u001b[0m\u001b[0;34m\u001b[0m\u001b[0m\n\u001b[1;32m      3\u001b[0m \u001b[0mplt\u001b[0m\u001b[0;34m.\u001b[0m\u001b[0mtitle\u001b[0m\u001b[0;34m(\u001b[0m\u001b[0;34m'model1 precision'\u001b[0m\u001b[0;34m)\u001b[0m\u001b[0;34m\u001b[0m\u001b[0;34m\u001b[0m\u001b[0m\n\u001b[1;32m      4\u001b[0m \u001b[0mplt\u001b[0m\u001b[0;34m.\u001b[0m\u001b[0mylabel\u001b[0m\u001b[0;34m(\u001b[0m\u001b[0;34m'precision'\u001b[0m\u001b[0;34m)\u001b[0m\u001b[0;34m\u001b[0m\u001b[0;34m\u001b[0m\u001b[0m\n\u001b[1;32m      5\u001b[0m \u001b[0mplt\u001b[0m\u001b[0;34m.\u001b[0m\u001b[0mxlabel\u001b[0m\u001b[0;34m(\u001b[0m\u001b[0;34m'epoch'\u001b[0m\u001b[0;34m)\u001b[0m\u001b[0;34m\u001b[0m\u001b[0;34m\u001b[0m\u001b[0m\n",
            "\u001b[0;31mKeyError\u001b[0m: 'precision'"
          ]
        }
      ]
    },
    {
      "cell_type": "code",
      "metadata": {
        "id": "iH85ftTFWRoY",
        "colab": {
          "base_uri": "https://localhost:8080/",
          "height": 294
        },
        "outputId": "17f2cbd2-9f3b-45e5-e12d-9639027013c1"
      },
      "source": [
        "plt.plot(hist1.history['recall'])\n",
        "plt.plot(hist1.history['val_recall'])\n",
        "plt.title('model1 recall')\n",
        "plt.ylabel('recall')\n",
        "plt.xlabel('epoch')\n",
        "plt.legend(['train', 'test'], loc='upper left')\n",
        "plt.show()"
      ],
      "execution_count": null,
      "outputs": [
        {
          "output_type": "display_data",
          "data": {
            "image/png": "[encoded data removed]",
            "text/plain": [
              "<Figure size 432x288 with 1 Axes>"
            ]
          },
          "metadata": {
            "needs_background": "light"
          }
        }
      ]
    },
    {
      "cell_type": "code",
      "metadata": {
        "id": "GkpOO2sQaMyK",
        "colab": {
          "base_uri": "https://localhost:8080/"
        },
        "outputId": "8a6f24c8-0b9c-401c-9c85-b028bfd75128"
      },
      "source": [
        "probas = model1.predict(validation_generator)\n",
        "y_pred = np.argmax(probas, axis=1)\n",
        "y_true = validation_generator.classes\n",
        "print(classification_report(y_true,y_pred))"
      ],
      "execution_count": null,
      "outputs": [
        {
          "output_type": "stream",
          "text": [
            "              precision    recall  f1-score   support\n",
            "\n",
            "           0       0.50      1.00      0.67      1013\n",
            "           1       0.00      0.00      0.00      1013\n",
            "\n",
            "    accuracy                           0.50      2026\n",
            "   macro avg       0.25      0.50      0.33      2026\n",
            "weighted avg       0.25      0.50      0.33      2026\n",
            "\n"
          ],
          "name": "stdout"
        },
        {
          "output_type": "stream",
          "text": [
            "/usr/local/lib/python3.7/dist-packages/sklearn/metrics/_classification.py:1272: UndefinedMetricWarning: Precision and F-score are ill-defined and being set to 0.0 in labels with no predicted samples. Use `zero_division` parameter to control this behavior.\n",
            "  _warn_prf(average, modifier, msg_start, len(result))\n"
          ],
          "name": "stderr"
        }
      ]
    },
    {
      "cell_type": "markdown",
      "metadata": {
        "id": "JzEjYdla-Qsm"
      },
      "source": [
        "# Optimizer SGD"
      ]
    },
    {
      "cell_type": "code",
      "metadata": {
        "colab": {
          "base_uri": "https://localhost:8080/"
        },
        "id": "ETYajBAJFGhj",
        "outputId": "b476a78c-e7c5-417d-ebd5-aba763eb3a48"
      },
      "source": [
        "model1.compile(optimizer='SGD',\n",
        "             loss='categorical_crossentropy',\n",
        "             metrics=['accuracy',tf.keras.metrics.Precision(), tf.keras.metrics.Recall()])\n",
        "\n",
        "hist1 = model1.fit(\n",
        "    train_generator, \n",
        "    workers=8, \n",
        "    steps_per_epoch=train_generator.samples // BATCH_SIZE, \n",
        "    epochs=EPOCHS, \n",
        "    validation_data=validation_generator, \n",
        "    validation_steps=validation_generator.samples // BATCH_SIZE)"
      ],
      "execution_count": null,
      "outputs": [
        {
          "output_type": "stream",
          "text": [
            "Epoch 1/3\n",
            "126/126 [==============================] - 51s 349ms/step - loss: 64.8533 - accuracy: 0.4922 - precision_1: 0.4922 - recall_1: 0.4922 - val_loss: 107.9090 - val_accuracy: 0.4894 - val_precision_1: 0.4894 - val_recall_1: 0.4894\n",
            "Epoch 2/3\n",
            "126/126 [==============================] - 43s 333ms/step - loss: 63.6507 - accuracy: 0.4959 - precision_1: 0.4959 - recall_1: 0.4959 - val_loss: 107.9580 - val_accuracy: 0.4894 - val_precision_1: 0.4894 - val_recall_1: 0.4894\n",
            "Epoch 3/3\n",
            "126/126 [==============================] - 43s 332ms/step - loss: 59.8979 - accuracy: 0.5087 - precision_1: 0.5087 - recall_1: 0.5087 - val_loss: 62.2284 - val_accuracy: 0.4894 - val_precision_1: 0.4894 - val_recall_1: 0.4894\n"
          ],
          "name": "stdout"
        }
      ]
    },
    {
      "cell_type": "code",
      "metadata": {
        "colab": {
          "base_uri": "https://localhost:8080/",
          "height": 71
        },
        "id": "5sMfsnKHFIey",
        "outputId": "3675774e-1e36-4251-e045-31d53ba3193e"
      },
      "source": [
        "import matplotlib.pyplot as plt\n",
        "\n",
        "print(hist1.history.keys())\n",
        "# summarize history for accuracy\n",
        "plt.plot(hist1.history['accuracy'])\n",
        "plt.plot(hist1.history['val_accuracy'])\n",
        "plt.title('model1 accuracy')\n",
        "plt.ylabel('accuracy')\n",
        "plt.xlabel('epoch')\n",
        "plt.legend(['train', 'test'], loc='upper left')\n",
        "plt.show()"
      ],
      "execution_count": null,
      "outputs": [
        {
          "output_type": "stream",
          "text": [
            "dict_keys(['loss', 'accuracy', 'precision_1', 'recall_1', 'val_loss', 'val_accuracy', 'val_precision_1', 'val_recall_1'])\n"
          ],
          "name": "stdout"
        },
        {
          "output_type": "display_data",
          "data": {
            "image/png": "[encoded data removed]",
            "text/plain": [
              "<Figure size 432x288 with 1 Axes>"
            ]
          },
          "metadata": {
            "needs_background": "light"
          }
        }
      ]
    },
    {
      "cell_type": "markdown",
      "metadata": {
        "id": "TAZWu2KmbeXP"
      },
      "source": [
        "# Contoh Inferensi"
      ]
    },
    {
      "cell_type": "code",
      "metadata": {
        "id": "QRq7X-8YbZDN"
      },
      "source": [
        "namafile = 'test.jpg' #upload gambar menggunakan colab\n",
        "image = tf.keras.preprocessing.image.load_img(namafile,target_size=(224,224))\n",
        "input_arr = tf.keras.preprocessing.image.img_to_array(image)\n",
        "input_arr = np.expand_dims(input_arr, axis=0)\n",
        "input_arr_normalized = input_arr/255.0\n",
        "plt.imshow(image)"
      ],
      "execution_count": null,
      "outputs": []
    },
    {
      "cell_type": "code",
      "metadata": {
        "id": "caBE6V-Xbnhj"
      },
      "source": [
        "pred_probas = model1.predict(input_arr_normalized)\n",
        "pred_probas_df = pd.DataFrame(pred_probas, index=[0], columns=class_names)\n",
        "pred_probas_df"
      ],
      "execution_count": null,
      "outputs": []
    },
    {
      "cell_type": "code",
      "metadata": {
        "id": "zDfASvE6bqcJ"
      },
      "source": [
        ""
      ],
      "execution_count": null,
      "outputs": []
    }
  ]
}